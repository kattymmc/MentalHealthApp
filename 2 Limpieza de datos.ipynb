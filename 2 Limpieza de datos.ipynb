{
 "cells": [
  {
   "cell_type": "code",
   "execution_count": 4,
   "id": "398a74b8",
   "metadata": {},
   "outputs": [],
   "source": [
    "import pandas as pd\n",
    "import numpy as np\n",
    "import re\n",
    "from nltk.tokenize import word_tokenize\n",
    "from nltk import pos_tag\n",
    "from nltk.corpus import stopwords\n",
    "from nltk.stem import WordNetLemmatizer\n",
    "from sklearn.preprocessing import LabelEncoder\n",
    "from collections import defaultdict\n",
    "from nltk.corpus import wordnet as wn"
   ]
  },
  {
   "cell_type": "code",
   "execution_count": 5,
   "id": "a57ed5c2",
   "metadata": {},
   "outputs": [],
   "source": [
    "data_tweets = pd.read_csv(r'dataset_twitter.csv')"
   ]
  },
  {
   "cell_type": "code",
   "execution_count": 6,
   "id": "a327011e",
   "metadata": {},
   "outputs": [
    {
     "data": {
      "text/html": [
       "<div>\n",
       "<style scoped>\n",
       "    .dataframe tbody tr th:only-of-type {\n",
       "        vertical-align: middle;\n",
       "    }\n",
       "\n",
       "    .dataframe tbody tr th {\n",
       "        vertical-align: top;\n",
       "    }\n",
       "\n",
       "    .dataframe thead th {\n",
       "        text-align: right;\n",
       "    }\n",
       "</style>\n",
       "<table border=\"1\" class=\"dataframe\">\n",
       "  <thead>\n",
       "    <tr style=\"text-align: right;\">\n",
       "      <th></th>\n",
       "      <th>full_text</th>\n",
       "      <th>created_at</th>\n",
       "      <th>tweet_id</th>\n",
       "      <th>user_id</th>\n",
       "      <th>user_screen_name</th>\n",
       "      <th>user_location</th>\n",
       "      <th>user_followers</th>\n",
       "      <th>user_friends</th>\n",
       "      <th>user_favourites</th>\n",
       "      <th>user_statuses</th>\n",
       "      <th>label</th>\n",
       "    </tr>\n",
       "  </thead>\n",
       "  <tbody>\n",
       "    <tr>\n",
       "      <th>0</th>\n",
       "      <td>@pasandoavisitar +eventos así. Cuál exclusión ...</td>\n",
       "      <td>11/01/2022 19:13</td>\n",
       "      <td>1481056605890351107</td>\n",
       "      <td>221554338</td>\n",
       "      <td>TeamMayitas</td>\n",
       "      <td>México</td>\n",
       "      <td>409</td>\n",
       "      <td>429</td>\n",
       "      <td>21883</td>\n",
       "      <td>10623</td>\n",
       "      <td>1</td>\n",
       "    </tr>\n",
       "    <tr>\n",
       "      <th>1</th>\n",
       "      <td>Está pasando que hay miedo entre los inoculado...</td>\n",
       "      <td>11/01/2022 19:10</td>\n",
       "      <td>1481055968062590982</td>\n",
       "      <td>848985083302350849</td>\n",
       "      <td>lonocomun</td>\n",
       "      <td>NaN</td>\n",
       "      <td>5</td>\n",
       "      <td>10</td>\n",
       "      <td>22</td>\n",
       "      <td>606</td>\n",
       "      <td>0</td>\n",
       "    </tr>\n",
       "    <tr>\n",
       "      <th>2</th>\n",
       "      <td>Desarrollador de videojuegos muere de covid de...</td>\n",
       "      <td>11/01/2022 19:10</td>\n",
       "      <td>1481055964069773312</td>\n",
       "      <td>164693617</td>\n",
       "      <td>ATVLatino</td>\n",
       "      <td>Texas, USA</td>\n",
       "      <td>64610</td>\n",
       "      <td>20336</td>\n",
       "      <td>3328</td>\n",
       "      <td>83305</td>\n",
       "      <td>0</td>\n",
       "    </tr>\n",
       "    <tr>\n",
       "      <th>3</th>\n",
       "      <td>Creo que me voy a morir más de estrés y ansied...</td>\n",
       "      <td>11/01/2022 19:10</td>\n",
       "      <td>1481055846251614220</td>\n",
       "      <td>104063949</td>\n",
       "      <td>albertgaunt</td>\n",
       "      <td>Mexico City</td>\n",
       "      <td>572</td>\n",
       "      <td>557</td>\n",
       "      <td>13839</td>\n",
       "      <td>106862</td>\n",
       "      <td>1</td>\n",
       "    </tr>\n",
       "    <tr>\n",
       "      <th>4</th>\n",
       "      <td>Mi mayor miedo del COVID es perder el GUSTO y ...</td>\n",
       "      <td>11/01/2022 19:09</td>\n",
       "      <td>1481055687170215937</td>\n",
       "      <td>948665427898634242</td>\n",
       "      <td>DCEliane99</td>\n",
       "      <td>Insta: dai2204</td>\n",
       "      <td>94</td>\n",
       "      <td>157</td>\n",
       "      <td>21741</td>\n",
       "      <td>8607</td>\n",
       "      <td>0</td>\n",
       "    </tr>\n",
       "  </tbody>\n",
       "</table>\n",
       "</div>"
      ],
      "text/plain": [
       "                                           full_text        created_at  \\\n",
       "0  @pasandoavisitar +eventos así. Cuál exclusión ...  11/01/2022 19:13   \n",
       "1  Está pasando que hay miedo entre los inoculado...  11/01/2022 19:10   \n",
       "2  Desarrollador de videojuegos muere de covid de...  11/01/2022 19:10   \n",
       "3  Creo que me voy a morir más de estrés y ansied...  11/01/2022 19:10   \n",
       "4  Mi mayor miedo del COVID es perder el GUSTO y ...  11/01/2022 19:09   \n",
       "\n",
       "              tweet_id             user_id user_screen_name   user_location  \\\n",
       "0  1481056605890351107           221554338      TeamMayitas          México   \n",
       "1  1481055968062590982  848985083302350849        lonocomun             NaN   \n",
       "2  1481055964069773312           164693617        ATVLatino      Texas, USA   \n",
       "3  1481055846251614220           104063949      albertgaunt     Mexico City   \n",
       "4  1481055687170215937  948665427898634242       DCEliane99  Insta: dai2204   \n",
       "\n",
       "   user_followers  user_friends  user_favourites  user_statuses  label  \n",
       "0             409           429            21883          10623      1  \n",
       "1               5            10               22            606      0  \n",
       "2           64610         20336             3328          83305      0  \n",
       "3             572           557            13839         106862      1  \n",
       "4              94           157            21741           8607      0  "
      ]
     },
     "execution_count": 6,
     "metadata": {},
     "output_type": "execute_result"
    }
   ],
   "source": [
    "data_tweets.head()"
   ]
  },
  {
   "cell_type": "markdown",
   "id": "c88d5cf3",
   "metadata": {},
   "source": [
    "## 1. Eliminar caracteres Especiales\n",
    "En esta etapa se define la funcion clean_tweets() la cual elimina los carateres especiales, emojis, hashtags, urls y menciones de otros usuarios. Se convierte el texto a minúsculas. También se reemplazan algunos terminos usualmente usados en las redes sociales con el significado."
   ]
  },
  {
   "cell_type": "code",
   "execution_count": 7,
   "id": "4ffe66c1",
   "metadata": {},
   "outputs": [],
   "source": [
    "url = ('http[s]?://(?:[a-zA-Z]|[0-9]|[$-_@.&+]|'\n",
    "        '[!*\\(\\),]|(?:%[0-9a-fA-F][0-9a-fA-F]))+')\n",
    "menciones = '@[\\w\\-]+'\n",
    "hashtag = '#[\\w\\-]+'\n",
    "caracteres_especiales = r'\\W'\n",
    "varios_espacios= r'\\s+'\n",
    "\n",
    "def clean_tweet(tweet):\n",
    "    tweet_procesado = tweet.lower() \n",
    "    tweet_procesado = re.sub(menciones, ' ', tweet_procesado)\n",
    "    tweet_procesado = re.sub(url, ' ', tweet_procesado)\n",
    "    tweet_procesado = re.sub(caracteres_especiales, ' ', tweet_procesado)\n",
    "    tweet_procesado = re.sub(\" q \", ' que ', tweet_procesado)\n",
    "    tweet_procesado = re.sub(\" pq \", ' porque ', tweet_procesado)\n",
    "    tweet_procesado = re.sub(\" xq \", ' porque ', tweet_procesado)\n",
    "    tweet_procesado = re.sub(varios_espacios, ' ', tweet_procesado, flags=re.I)\n",
    "    return tweet_procesado"
   ]
  },
  {
   "cell_type": "markdown",
   "id": "ac62b6a8",
   "metadata": {},
   "source": [
    "Limpiando nuestro dataset"
   ]
  },
  {
   "cell_type": "code",
   "execution_count": 8,
   "id": "1523a905",
   "metadata": {},
   "outputs": [],
   "source": [
    "for index, row in data_tweets.iterrows():\n",
    "    cleaned = clean_tweet(row['full_text'])\n",
    "    data_tweets.at[index, 'full_text'] = cleaned"
   ]
  },
  {
   "cell_type": "code",
   "execution_count": 9,
   "id": "95b6d0e7",
   "metadata": {},
   "outputs": [
    {
     "data": {
      "text/plain": [
       "0        eventos así cuál exclusión por maternar antes...\n",
       "1       está pasando que hay miedo entre los inoculado...\n",
       "2       desarrollador de videojuegos muere de covid de...\n",
       "3       creo que me voy a morir más de estrés y ansied...\n",
       "4       mi mayor miedo del covid es perder el gusto y ...\n",
       "                              ...                        \n",
       "1324    lo que más odio de la traición de mi ex es la ...\n",
       "1325    el otro día vi un post que decía decirle a alg...\n",
       "1326          me ha dado todo covid depresión y ansiedad \n",
       "1327    me siento mal y no sé si son los síntomas de l...\n",
       "1328    bajé 3 kilos esta semana gracias covid y depre...\n",
       "Name: full_text, Length: 1329, dtype: object"
      ]
     },
     "execution_count": 9,
     "metadata": {},
     "output_type": "execute_result"
    }
   ],
   "source": [
    "data_tweets['full_text']"
   ]
  },
  {
   "cell_type": "markdown",
   "id": "e1f48bac",
   "metadata": {},
   "source": [
    "## 2. Tokenizacion y eliminación de palabras vacías"
   ]
  },
  {
   "cell_type": "markdown",
   "id": "414d284e",
   "metadata": {},
   "source": [
    "Las palabras vacías o stopwords son palabras no tienen un significado por sí solas, sino que modifican o acompañan a otras, este grupo suele estar conformado por artículos, pronombres, preposiciones, adverbios e incluso algunos verbos."
   ]
  },
  {
   "cell_type": "code",
   "execution_count": 10,
   "id": "11f3cd7c",
   "metadata": {},
   "outputs": [
    {
     "name": "stdout",
     "output_type": "stream",
     "text": [
      "['de', 'la', 'que', 'el', 'en', 'y', 'a', 'los', 'del', 'se', 'las', 'por', 'un', 'para', 'con', 'no', 'una', 'su', 'al', 'lo', 'como', 'más', 'pero', 'sus', 'le', 'ya', 'o', 'este', 'sí', 'porque', 'esta', 'entre', 'cuando', 'muy', 'sin', 'sobre', 'también', 'me', 'hasta', 'hay', 'donde', 'quien', 'desde', 'todo', 'nos', 'durante', 'todos', 'uno', 'les', 'ni', 'contra', 'otros', 'ese', 'eso', 'ante', 'ellos', 'e', 'esto', 'mí', 'antes', 'algunos', 'qué', 'unos', 'yo', 'otro', 'otras', 'otra', 'él', 'tanto', 'esa', 'estos', 'mucho', 'quienes', 'nada', 'muchos', 'cual', 'poco', 'ella', 'estar', 'estas', 'algunas', 'algo', 'nosotros', 'mi', 'mis', 'tú', 'te', 'ti', 'tu', 'tus', 'ellas', 'nosotras', 'vosotros', 'vosotras', 'os', 'mío', 'mía', 'míos', 'mías', 'tuyo', 'tuya', 'tuyos', 'tuyas', 'suyo', 'suya', 'suyos', 'suyas', 'nuestro', 'nuestra', 'nuestros', 'nuestras', 'vuestro', 'vuestra', 'vuestros', 'vuestras', 'esos', 'esas', 'estoy', 'estás', 'está', 'estamos', 'estáis', 'están', 'esté', 'estés', 'estemos', 'estéis', 'estén', 'estaré', 'estarás', 'estará', 'estaremos', 'estaréis', 'estarán', 'estaría', 'estarías', 'estaríamos', 'estaríais', 'estarían', 'estaba', 'estabas', 'estábamos', 'estabais', 'estaban', 'estuve', 'estuviste', 'estuvo', 'estuvimos', 'estuvisteis', 'estuvieron', 'estuviera', 'estuvieras', 'estuviéramos', 'estuvierais', 'estuvieran', 'estuviese', 'estuvieses', 'estuviésemos', 'estuvieseis', 'estuviesen', 'estando', 'estado', 'estada', 'estados', 'estadas', 'estad', 'he', 'has', 'ha', 'hemos', 'habéis', 'han', 'haya', 'hayas', 'hayamos', 'hayáis', 'hayan', 'habré', 'habrás', 'habrá', 'habremos', 'habréis', 'habrán', 'habría', 'habrías', 'habríamos', 'habríais', 'habrían', 'había', 'habías', 'habíamos', 'habíais', 'habían', 'hube', 'hubiste', 'hubo', 'hubimos', 'hubisteis', 'hubieron', 'hubiera', 'hubieras', 'hubiéramos', 'hubierais', 'hubieran', 'hubiese', 'hubieses', 'hubiésemos', 'hubieseis', 'hubiesen', 'habiendo', 'habido', 'habida', 'habidos', 'habidas', 'soy', 'eres', 'es', 'somos', 'sois', 'son', 'sea', 'seas', 'seamos', 'seáis', 'sean', 'seré', 'serás', 'será', 'seremos', 'seréis', 'serán', 'sería', 'serías', 'seríamos', 'seríais', 'serían', 'era', 'eras', 'éramos', 'erais', 'eran', 'fui', 'fuiste', 'fue', 'fuimos', 'fuisteis', 'fueron', 'fuera', 'fueras', 'fuéramos', 'fuerais', 'fueran', 'fuese', 'fueses', 'fuésemos', 'fueseis', 'fuesen', 'sintiendo', 'sentido', 'sentida', 'sentidos', 'sentidas', 'siente', 'sentid', 'tengo', 'tienes', 'tiene', 'tenemos', 'tenéis', 'tienen', 'tenga', 'tengas', 'tengamos', 'tengáis', 'tengan', 'tendré', 'tendrás', 'tendrá', 'tendremos', 'tendréis', 'tendrán', 'tendría', 'tendrías', 'tendríamos', 'tendríais', 'tendrían', 'tenía', 'tenías', 'teníamos', 'teníais', 'tenían', 'tuve', 'tuviste', 'tuvo', 'tuvimos', 'tuvisteis', 'tuvieron', 'tuviera', 'tuvieras', 'tuviéramos', 'tuvierais', 'tuvieran', 'tuviese', 'tuvieses', 'tuviésemos', 'tuvieseis', 'tuviesen', 'teniendo', 'tenido', 'tenida', 'tenidos', 'tenidas', 'tened']\n"
     ]
    }
   ],
   "source": [
    "print(stopwords.words(\"spanish\"))"
   ]
  },
  {
   "cell_type": "code",
   "execution_count": 11,
   "id": "18e91bf8",
   "metadata": {},
   "outputs": [],
   "source": [
    "def procesar_texto(cadena):\n",
    "    palabras = cadena.split() \n",
    "    cadena_limpia = [palabra for palabra in palabras if palabra.lower() not in stopwords.words(\"spanish\")]\n",
    "    return cadena_limpia"
   ]
  },
  {
   "cell_type": "code",
   "execution_count": 12,
   "id": "96cccb47",
   "metadata": {},
   "outputs": [],
   "source": [
    "for index, row in data_tweets.iterrows():\n",
    "    cleaned = procesar_texto(row['full_text'])\n",
    "    cleaned = ' '.join(cleaned)\n",
    "    data_tweets.at[index, 'full_text'] = cleaned.strip()"
   ]
  },
  {
   "cell_type": "code",
   "execution_count": 13,
   "id": "d7f84838",
   "metadata": {},
   "outputs": [
    {
     "data": {
      "text/plain": [
       "0       eventos así cuál exclusión maternar pandemia f...\n",
       "1       pasando miedo inoculados miserables siguen aca...\n",
       "2       desarrollador videojuegos muere covid después ...\n",
       "3                    creo voy morir estrés ansiedad covid\n",
       "4       mayor miedo covid perder gusto olfato gusto ha...\n",
       "                              ...                        \n",
       "1324    odio traición ex manera destrozó autoestima se...\n",
       "1325    día vi post decía decirle alguien depresión tr...\n",
       "1326                        dado covid depresión ansiedad\n",
       "1327    siento mal sé si síntomas depresión corazón ro...\n",
       "1328          bajé 3 kilos semana gracias covid depresión\n",
       "Name: full_text, Length: 1329, dtype: object"
      ]
     },
     "execution_count": 13,
     "metadata": {},
     "output_type": "execute_result"
    }
   ],
   "source": [
    "data_tweets['full_text']"
   ]
  },
  {
   "cell_type": "markdown",
   "id": "7efae788",
   "metadata": {},
   "source": [
    "## 3. Lemmatización"
   ]
  },
  {
   "cell_type": "code",
   "execution_count": 14,
   "id": "805e2f88",
   "metadata": {},
   "outputs": [],
   "source": [
    "import spacy\n",
    "import spacy_spanish_lemmatizer"
   ]
  },
  {
   "cell_type": "code",
   "execution_count": 15,
   "id": "c7c43523",
   "metadata": {},
   "outputs": [
    {
     "data": {
      "text/plain": [
       "<spacy_spanish_lemmatizer.main.SpacyCustomLemmatizer at 0x259cc3cf340>"
      ]
     },
     "execution_count": 15,
     "metadata": {},
     "output_type": "execute_result"
    }
   ],
   "source": [
    "nlp = spacy.load(\"es_core_news_sm\")\n",
    "nlp.replace_pipe(\"lemmatizer\", \"spanish_lemmatizer\")"
   ]
  },
  {
   "cell_type": "code",
   "execution_count": 60,
   "id": "857f998f",
   "metadata": {},
   "outputs": [
    {
     "name": "stdout",
     "output_type": "stream",
     "text": [
      "word: He \tlemma: haber\n",
      "word: estado \tlemma: estar\n",
      "word: llorando \tlemma: llorar\n",
      "word: todo \tlemma: todo\n",
      "word: el \tlemma: el\n",
      "word: día \tlemma: día\n"
     ]
    }
   ],
   "source": [
    "for token in nlp('He estado llorando todo el día'):\n",
    "    print(f'palabra: {token.text} \\t lemma:{token.lemma_}')"
   ]
  },
  {
   "cell_type": "code",
   "execution_count": 16,
   "id": "ac6cd600",
   "metadata": {},
   "outputs": [],
   "source": [
    "for index, row in data_tweets.iterrows():\n",
    "    texto_lemma = nlp(row['full_text'])\n",
    "    lemmas = []\n",
    "    for token in nlp(texto_lemma):\n",
    "        lemmas.append(token.lemma_)\n",
    "    data_tweets.at[index, 'full_text'] = ' '.join(lemmas)"
   ]
  },
  {
   "cell_type": "code",
   "execution_count": 17,
   "id": "74c6bcb8",
   "metadata": {},
   "outputs": [
    {
     "data": {
      "text/plain": [
       "0       evento así cuál exclusión maternar pandemia fo...\n",
       "1       pasar miedo inoculado miserable seguir acatar ...\n",
       "2       desarrollador videojuegos morir covid después ...\n",
       "3                   creer voy morir estrés ansiedad covid\n",
       "4       mayor miedo covid perder gusto olfato gusto ha...\n",
       "                              ...                        \n",
       "1324    odio traición ex manera destrozar autoestima s...\n",
       "1325    día ver post decir decirle alguien depresión t...\n",
       "1326                        dado covid depresión ansiedad\n",
       "1327    sentar mal saber si síntomas depresión corazón...\n",
       "1328           bajar 3 kilo semana gracia covid depresión\n",
       "Name: full_text, Length: 1329, dtype: object"
      ]
     },
     "execution_count": 17,
     "metadata": {},
     "output_type": "execute_result"
    }
   ],
   "source": [
    "data_tweets['full_text']"
   ]
  },
  {
   "cell_type": "code",
   "execution_count": 18,
   "id": "6693a1a1",
   "metadata": {},
   "outputs": [],
   "source": [
    "data_tweets.to_csv(r'dataset_twitter_cleaned.csv', index = False, header=True)"
   ]
  },
  {
   "cell_type": "code",
   "execution_count": null,
   "id": "4d9b5396",
   "metadata": {},
   "outputs": [],
   "source": []
  }
 ],
 "metadata": {
  "kernelspec": {
   "display_name": "Python 3 (ipykernel)",
   "language": "python",
   "name": "python3"
  },
  "language_info": {
   "codemirror_mode": {
    "name": "ipython",
    "version": 3
   },
   "file_extension": ".py",
   "mimetype": "text/x-python",
   "name": "python",
   "nbconvert_exporter": "python",
   "pygments_lexer": "ipython3",
   "version": "3.9.7"
  }
 },
 "nbformat": 4,
 "nbformat_minor": 5
}
