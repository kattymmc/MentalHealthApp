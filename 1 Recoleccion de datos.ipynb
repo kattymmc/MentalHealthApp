{
 "cells": [
  {
   "cell_type": "code",
   "execution_count": 1,
   "id": "266e70bc",
   "metadata": {},
   "outputs": [],
   "source": [
    "import tweepy\n",
    "import pandas as pd\n",
    "import numpy as np\n",
    "import re\n",
    "import matplotlib.pyplot as plt"
   ]
  },
  {
   "cell_type": "code",
   "execution_count": 2,
   "id": "e865baf9",
   "metadata": {},
   "outputs": [],
   "source": [
    "consumer_key = \"\"\n",
    "consumer_secret = \"\"\n",
    "bearer_token = \"\"\n",
    "access_token = \"\"\n",
    "access_token_secret = \"\""
   ]
  },
  {
   "cell_type": "markdown",
   "id": "c40f989f",
   "metadata": {},
   "source": [
    "Se realiza la conexión con la API de Twitter mediante la librería Tweepy"
   ]
  },
  {
   "cell_type": "code",
   "execution_count": 3,
   "id": "10b404d5",
   "metadata": {},
   "outputs": [],
   "source": [
    "auth = tweepy.OAuthHandler(consumer_key, consumer_secret)\n",
    "auth.set_access_token(access_token, access_token_secret)\n",
    "\n",
    "api = tweepy.API(auth, wait_on_rate_limit=True)"
   ]
  },
  {
   "cell_type": "code",
   "execution_count": 4,
   "id": "e0a0674c",
   "metadata": {},
   "outputs": [],
   "source": [
    "query = \"'covid OR coronavirus OR covid19 OR pandemia OR cuarentena OR confinamiento OR omicron' -filter:retweets\"\n",
    "tweets = tweepy.Cursor(api.search_tweets, q=query, lang=\"es\", tweet_mode = \"extended\").items(1000)"
   ]
  },
  {
   "cell_type": "code",
   "execution_count": 6,
   "id": "78bdd774",
   "metadata": {},
   "outputs": [],
   "source": [
    "data_tweets = pd.DataFrame(\n",
    "    {\n",
    "        \"full_text\": [],\n",
    "        \"created_at\": [],\n",
    "        \"tweet_id\": [],\n",
    "        \"user_id\": [],\n",
    "        \"user_screen_name\": [],\n",
    "        \"user_location\": [],\n",
    "        \"user_followers\": [],\n",
    "        \"user_friends\": [],\n",
    "        \"user_favourites\": [],\n",
    "        \"user_statuses\": []\n",
    "    }\n",
    ")"
   ]
  },
  {
   "cell_type": "code",
   "execution_count": 7,
   "id": "7000b935",
   "metadata": {},
   "outputs": [],
   "source": [
    "for status in tweets:\n",
    "    try:\n",
    "        tweet_dict = {\n",
    "            \"full_text\": status.full_text,\n",
    "            \"created_at\": status.created_at,\n",
    "            \"tweet_id\": str(status.id),\n",
    "            \"user_id\": str(status.user.id),\n",
    "            \"user_screen_name\": status.user.screen_name,\n",
    "            \"user_location\": status.user.location,\n",
    "            \"user_followers\": int(status.user.followers_count),\n",
    "            \"user_friends\": int(status.user.friends_count),\n",
    "            \"user_favourites\": int(status.user.favourites_count),\n",
    "            \"user_statuses\": int(status.user.statuses_count)\n",
    "        }\n",
    "        data_tweets = data_tweets.append(tweet_dict, ignore_index = True)\n",
    "    except Exception as e:\n",
    "        print(e)\n",
    "        continue"
   ]
  },
  {
   "cell_type": "code",
   "execution_count": 8,
   "id": "f4d1c96e",
   "metadata": {},
   "outputs": [
    {
     "data": {
      "text/plain": [
       "(1000, 10)"
      ]
     },
     "execution_count": 8,
     "metadata": {},
     "output_type": "execute_result"
    }
   ],
   "source": [
    "data_tweets.shape"
   ]
  },
  {
   "cell_type": "code",
   "execution_count": 11,
   "id": "c21228cc",
   "metadata": {},
   "outputs": [
    {
     "data": {
      "text/html": [
       "<div>\n",
       "<style scoped>\n",
       "    .dataframe tbody tr th:only-of-type {\n",
       "        vertical-align: middle;\n",
       "    }\n",
       "\n",
       "    .dataframe tbody tr th {\n",
       "        vertical-align: top;\n",
       "    }\n",
       "\n",
       "    .dataframe thead th {\n",
       "        text-align: right;\n",
       "    }\n",
       "</style>\n",
       "<table border=\"1\" class=\"dataframe\">\n",
       "  <thead>\n",
       "    <tr style=\"text-align: right;\">\n",
       "      <th></th>\n",
       "      <th>full_text</th>\n",
       "      <th>created_at</th>\n",
       "      <th>tweet_id</th>\n",
       "      <th>user_id</th>\n",
       "      <th>user_screen_name</th>\n",
       "      <th>user_location</th>\n",
       "      <th>user_followers</th>\n",
       "      <th>user_friends</th>\n",
       "      <th>user_favourites</th>\n",
       "      <th>user_statuses</th>\n",
       "    </tr>\n",
       "  </thead>\n",
       "  <tbody>\n",
       "    <tr>\n",
       "      <th>0</th>\n",
       "      <td>@ComoMeDoy @Soledad_Acunia @gcba @lanacionmas ...</td>\n",
       "      <td>2022-01-20 01:07:50+00:00</td>\n",
       "      <td>1483969485690130434</td>\n",
       "      <td>1340063242845114368</td>\n",
       "      <td>LautaroRoca1</td>\n",
       "      <td></td>\n",
       "      <td>1633.0</td>\n",
       "      <td>2917.0</td>\n",
       "      <td>2337.0</td>\n",
       "      <td>2013.0</td>\n",
       "    </tr>\n",
       "    <tr>\n",
       "      <th>1</th>\n",
       "      <td>Creo que tengo ómicron porque el cansancio y e...</td>\n",
       "      <td>2022-01-20 01:07:16+00:00</td>\n",
       "      <td>1483969341406257155</td>\n",
       "      <td>205053183</td>\n",
       "      <td>kxxxxav_</td>\n",
       "      <td>Falcón, Venezuela</td>\n",
       "      <td>3574.0</td>\n",
       "      <td>2394.0</td>\n",
       "      <td>92075.0</td>\n",
       "      <td>125633.0</td>\n",
       "    </tr>\n",
       "    <tr>\n",
       "      <th>2</th>\n",
       "      <td>@cafevolturno @Soledad_Acunia @horaciorlarreta...</td>\n",
       "      <td>2022-01-20 01:06:49+00:00</td>\n",
       "      <td>1483969229741166592</td>\n",
       "      <td>1340063242845114368</td>\n",
       "      <td>LautaroRoca1</td>\n",
       "      <td></td>\n",
       "      <td>1633.0</td>\n",
       "      <td>2917.0</td>\n",
       "      <td>2337.0</td>\n",
       "      <td>2013.0</td>\n",
       "    </tr>\n",
       "    <tr>\n",
       "      <th>3</th>\n",
       "      <td>#RenunciaAcuña\\nEl Gobierno cruzó a Soledad Ac...</td>\n",
       "      <td>2022-01-20 01:06:29+00:00</td>\n",
       "      <td>1483969145163108356</td>\n",
       "      <td>4197708767</td>\n",
       "      <td>SoyAdrianaMG</td>\n",
       "      <td></td>\n",
       "      <td>2048.0</td>\n",
       "      <td>3292.0</td>\n",
       "      <td>94879.0</td>\n",
       "      <td>37496.0</td>\n",
       "    </tr>\n",
       "    <tr>\n",
       "      <th>4</th>\n",
       "      <td>Tergiversan los dichos de @Soledad_Acunia para...</td>\n",
       "      <td>2022-01-20 01:02:58+00:00</td>\n",
       "      <td>1483968259279835136</td>\n",
       "      <td>130535563</td>\n",
       "      <td>cristianritondo</td>\n",
       "      <td>Buenos Aires</td>\n",
       "      <td>234729.0</td>\n",
       "      <td>292.0</td>\n",
       "      <td>1614.0</td>\n",
       "      <td>9583.0</td>\n",
       "    </tr>\n",
       "  </tbody>\n",
       "</table>\n",
       "</div>"
      ],
      "text/plain": [
       "                                           full_text  \\\n",
       "0  @ComoMeDoy @Soledad_Acunia @gcba @lanacionmas ...   \n",
       "1  Creo que tengo ómicron porque el cansancio y e...   \n",
       "2  @cafevolturno @Soledad_Acunia @horaciorlarreta...   \n",
       "3  #RenunciaAcuña\\nEl Gobierno cruzó a Soledad Ac...   \n",
       "4  Tergiversan los dichos de @Soledad_Acunia para...   \n",
       "\n",
       "                 created_at             tweet_id              user_id  \\\n",
       "0 2022-01-20 01:07:50+00:00  1483969485690130434  1340063242845114368   \n",
       "1 2022-01-20 01:07:16+00:00  1483969341406257155            205053183   \n",
       "2 2022-01-20 01:06:49+00:00  1483969229741166592  1340063242845114368   \n",
       "3 2022-01-20 01:06:29+00:00  1483969145163108356           4197708767   \n",
       "4 2022-01-20 01:02:58+00:00  1483968259279835136            130535563   \n",
       "\n",
       "  user_screen_name      user_location  user_followers  user_friends  \\\n",
       "0     LautaroRoca1                             1633.0        2917.0   \n",
       "1         kxxxxav_  Falcón, Venezuela          3574.0        2394.0   \n",
       "2     LautaroRoca1                             1633.0        2917.0   \n",
       "3     SoyAdrianaMG                             2048.0        3292.0   \n",
       "4  cristianritondo       Buenos Aires        234729.0         292.0   \n",
       "\n",
       "   user_favourites  user_statuses  \n",
       "0           2337.0         2013.0  \n",
       "1          92075.0       125633.0  \n",
       "2           2337.0         2013.0  \n",
       "3          94879.0        37496.0  \n",
       "4           1614.0         9583.0  "
      ]
     },
     "execution_count": 11,
     "metadata": {},
     "output_type": "execute_result"
    }
   ],
   "source": [
    "data_tweets.head()"
   ]
  },
  {
   "cell_type": "markdown",
   "id": "18939f4c",
   "metadata": {},
   "source": [
    "Se guardan los tweets recolectados en un archivo CSV"
   ]
  },
  {
   "cell_type": "code",
   "execution_count": 9,
   "id": "b1169522",
   "metadata": {},
   "outputs": [],
   "source": [
    "data_tweets.to_csv(r'dataset_twitter.csv', index = False, header=True)"
   ]
  },
  {
   "cell_type": "code",
   "execution_count": null,
   "id": "214b9fab",
   "metadata": {},
   "outputs": [],
   "source": []
  }
 ],
 "metadata": {
  "kernelspec": {
   "display_name": "Python 3 (ipykernel)",
   "language": "python",
   "name": "python3"
  },
  "language_info": {
   "codemirror_mode": {
    "name": "ipython",
    "version": 3
   },
   "file_extension": ".py",
   "mimetype": "text/x-python",
   "name": "python",
   "nbconvert_exporter": "python",
   "pygments_lexer": "ipython3",
   "version": "3.9.7"
  }
 },
 "nbformat": 4,
 "nbformat_minor": 5
}
